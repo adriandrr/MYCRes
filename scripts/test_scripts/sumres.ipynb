{
 "cells": [
  {
   "cell_type": "code",
   "execution_count": 1,
   "id": "494022ac-560f-4160-98d2-664f1b1fe195",
   "metadata": {},
   "outputs": [],
   "source": [
    "import pandas as pd\n",
    "import os\n",
    "from os import listdir\n",
    "\n",
    "samplenames = \"/homes/adrian/mdr_mtb-master/results1.run_0-90/0/ABres\"\n",
    "root = \"/homes/adrian/mdr_mtb-master/results1.run_0-90/\"\n",
    "\n",
    "samples = listdir(samplenames)\n",
    "reduction = [0,10,20,30,40,50,60,70,80,90]\n",
    "output = \"/homes/adrian/mdr_mtb-master/results1.run_0-90/summary.csv\"\n",
    "\n",
    "with open(output, \"w\") as outcsv:\n",
    "    outcsv.writelines(\n",
    "        \"Sample,reduction,res_mutation,mean_value,total_mutation\\n\".replace(\",\",\"\\t\"))\n",
    "    for sample in samples:\n",
    "        firstpathres = root + str(0) + \"/ABres/\" + sample + \"/ABres_\" + sample + \".csv\"\n",
    "        for reduce in reduction:\n",
    "            pathres = root + str(reduce) + \"/ABres/\" + sample + \"/ABres_\" + sample + \".csv\"\n",
    "            pathvar = root + str(reduce) + \"/variants/\" + sample + \"/varprofile_\" + sample + \".csv\"\n",
    "            df = pd.read_csv(pathres, header = 0, sep = ',')\n",
    "            df2 = pd.read_csv(pathvar, header = 0, sep = '\\t')\n",
    "            res = df.loc[df[\"Mut_status\"] == \"res_mut\"]\n",
    "            result = str(sample) + \"\\t\" + str(reduce) + \"\\t\" \\\n",
    "                    + str(res.shape[0]) + \"\\t\" + str(round(res[\"Var_Qual\"].mean(),2)) + \"\\t\" \\\n",
    "                    + str(df2.shape[0])+ \"\\n\"\n",
    "            outcsv.writelines(result)"
   ]
  },
  {
   "cell_type": "code",
   "execution_count": 2,
   "id": "688d3865-e8e1-4062-a6b6-3b6ff2616d64",
   "metadata": {},
   "outputs": [],
   "source": [
    "sum = pd.read_csv(\"/homes/adrian/mdr_mtb-master/results1.run_0-90/summary.csv\", header = 0, sep = '\\t')\n",
    "sum['Sample'] = sum['Sample'].str.replace('IC', '1999')\n",
    "sum['Sample'] = sum['Sample'].str.replace('negK', '2000')\n",
    "sum['Sample'] = sum['Sample'].str.replace('posK', '2001')\n",
    "sum['Sample_1'] = sum['Sample'].str.split('_').str[0]\n",
    "sum[\"sort\"] = sum.agg('{0[Sample_1]}.{0[reduction]}'.format,axis=1)\n",
    "sum.index = sum['sort'].astype(float)\n",
    "sum = sum.sort_index().reset_index(drop=True)\n",
    "sum['Sample'] = sum['Sample'].str.replace('1999', 'IC')\n",
    "sum['Sample'] = sum['Sample'].str.replace('2000', 'negK')\n",
    "sum['Sample'] = sum['Sample'].str.replace('2001', 'posK')\n",
    "sum=sum.drop(columns=[\"sort\",\"Sample_1\"])\n",
    "sum.to_csv(\"/homes/adrian/mdr_mtb-master/results1.run_0-90/summary.csv\",index=False,sep='\\t')"
   ]
  },
  {
   "cell_type": "code",
   "execution_count": 29,
   "id": "bca9398c-d1b1-49b5-b3b7-35866db048ae",
   "metadata": {},
   "outputs": [],
   "source": [
    "import pandas as pd\n",
    "import os\n",
    "from os import listdir\n",
    "\n",
    "root = \"/homes/adrian/mdr_mtb-master/results1.run_0-90/\"\n",
    "samplenames = root + \"0/ABres\"\n",
    "\n",
    "\n",
    "samples = listdir(samplenames)\n",
    "output = root + \"resistances.csv\"\n",
    "\n",
    "with open(output, \"w\") as outcsv:\n",
    "    outcsv.writelines(\n",
    "        \"Sample,locus,mutation,resistance,quality\\n\".replace(\",\",\"\\t\"))\n",
    "    for sample in samples:\n",
    "        pathres = root + \"0/ABres/\" + sample + \"/ABres_\" + sample + \".csv\"\n",
    "        df = pd.read_csv(pathres, header = 0, sep = ',')\n",
    "        ab_df = df.loc[df[\"Mut_status\"] == \"res_mut\"].reindex()\n",
    "        ab_df = ab_df.reset_index()\n",
    "        for i in range(ab_df.shape[0]): \n",
    "            mut = str(ab_df.loc[i][\"Ref_Codon\"])+str(ab_df.loc[i][\"Codon_num\"])+str(ab_df.loc[i][\"Alt_Codon\"])\n",
    "            result = str(sample) + \"\\t\" + str(ab_df.loc[i][\"Mut_gene\"]) + \"\\t\" \\\n",
    "                    + mut + \"\\t\" + str(ab_df.loc[i][\"Resistance\"]) + \\\n",
    "                    \"\\t\" + str(ab_df.loc[i][\"Var_Qual\"]) + \"\\n\"\n",
    "            outcsv.writelines(result)"
   ]
  },
  {
   "cell_type": "code",
   "execution_count": 31,
   "id": "68fc72a3-643d-4845-be8f-5b03ec0d0978",
   "metadata": {},
   "outputs": [],
   "source": [
    "sum = pd.read_csv(output, header = 0, sep = '\\t',index_col=False)\n",
    "sum['Sample'] = sum['Sample'].str.replace('IC', '1999')\n",
    "sum['Sample'] = sum['Sample'].str.replace('negK', '2000')\n",
    "sum['Sample'] = sum['Sample'].str.replace('posK', '2001')\n",
    "sum.index = sum['Sample'].str.replace('_S','.').astype(float)\n",
    "sum = sum.sort_index().reset_index(drop=True)\n",
    "sum['Sample'] = sum['Sample'].str.replace('1999', 'IC')\n",
    "sum['Sample'] = sum['Sample'].str.replace('2000', 'negK')\n",
    "sum['Sample'] = sum['Sample'].str.replace('2001', 'posK')\n",
    "\n",
    "sum.to_csv(output,index=False,sep='\\t')"
   ]
  },
  {
   "cell_type": "code",
   "execution_count": 36,
   "id": "bf27b20c-564d-4b37-aa65-563b2b3a5e05",
   "metadata": {},
   "outputs": [],
   "source": [
    "import pandas as pd\n",
    "import os\n",
    "from os import listdir\n",
    "\n",
    "root = \"/homes/adrian/mdr_mtb-master/resultsSRR_0/\"\n",
    "samplenames = root + \"summary/ABres\"\n",
    "\n",
    "\n",
    "samples = listdir(samplenames)\n",
    "output = root + \"resistances.csv\"\n",
    "\n",
    "with open(output, \"w\") as outcsv:\n",
    "    outcsv.writelines(\n",
    "        \"Sample,locus,mutation,resistance,quality\\n\".replace(\",\",\"\\t\"))\n",
    "    for sample in samples:\n",
    "        pathres = root + \"summary/ABres/\" + sample + \"/ABres_\" + sample + \".csv\"\n",
    "        df = pd.read_csv(pathres, header = 0, sep = ',')\n",
    "        ab_df = df.loc[df[\"Mut_status\"] == \"res_mut\"].reindex()\n",
    "        ab_df = ab_df.reset_index()\n",
    "        for i in range(ab_df.shape[0]): \n",
    "            mut = str(ab_df.loc[i][\"Ref_Codon\"])+str(ab_df.loc[i][\"Codon_num\"])+str(ab_df.loc[i][\"Alt_Codon\"])\n",
    "            result = str(sample) + \"\\t\" + str(ab_df.loc[i][\"Mut_gene\"]) + \"\\t\" \\\n",
    "                    + mut + \"\\t\" + str(ab_df.loc[i][\"Resistance\"]) + \\\n",
    "                    \"\\t\" + str(ab_df.loc[i][\"Var_Qual\"]) + \"\\n\"\n",
    "            outcsv.writelines(result)"
   ]
  },
  {
   "cell_type": "code",
   "execution_count": 37,
   "id": "690ed8c7-4e16-4ec5-ab04-bb504fb407e5",
   "metadata": {},
   "outputs": [],
   "source": [
    "sum = pd.read_csv(output, header = 0, sep = '\\t',index_col=False)\n",
    "sum.index = sum['Sample'].str.replace('SRR','').astype(float)\n",
    "sum = sum.sort_index().reset_index(drop=True)\n",
    "\n",
    "sum.to_csv(output,index=False,sep='\\t')"
   ]
  },
  {
   "cell_type": "code",
   "execution_count": null,
   "id": "f2fa5556-e25f-4f2b-ba04-614465906380",
   "metadata": {},
   "outputs": [],
   "source": []
  }
 ],
 "metadata": {
  "kernelspec": {
   "display_name": "Python 3 (ipykernel)",
   "language": "python",
   "name": "python3"
  },
  "language_info": {
   "codemirror_mode": {
    "name": "ipython",
    "version": 3
   },
   "file_extension": ".py",
   "mimetype": "text/x-python",
   "name": "python",
   "nbconvert_exporter": "python",
   "pygments_lexer": "ipython3",
   "version": "3.10.8"
  }
 },
 "nbformat": 4,
 "nbformat_minor": 5
}
